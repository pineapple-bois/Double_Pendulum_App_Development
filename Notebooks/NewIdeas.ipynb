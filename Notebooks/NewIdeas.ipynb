{
 "cells": [
  {
   "cell_type": "code",
   "id": "initial_id",
   "metadata": {
    "collapsed": true,
    "ExecuteTime": {
     "end_time": "2024-08-05T14:47:30.346095Z",
     "start_time": "2024-08-05T14:47:28.552743Z"
    }
   },
   "source": [
    "import numpy as np\n",
    "import sympy as sp\n",
    "import matplotlib.pyplot as plt\n",
    "from MathFunctions import *\n",
    "from development.pyscripts.DoublePendulumSubclass import DoublePendulumExplorer"
   ],
   "execution_count": 1,
   "outputs": []
  },
  {
   "metadata": {
    "ExecuteTime": {
     "end_time": "2024-08-05T15:17:39.963065Z",
     "start_time": "2024-08-05T15:17:39.957090Z"
    }
   },
   "cell_type": "code",
   "source": [
    "# Define symbolic variables\n",
    "g, l1, l2, m1, m2 = sp.symbols('g l1 l2 m1 m2', real=True, positive=True)\n",
    "theta1, theta2 = sp.symbols('theta1 theta2', real=True)\n",
    "\n",
    "# Define potential energy function\n",
    "V = - (m1 + m2) * g * l1 * sp.cos(theta1) - m2 * g * l2 * sp.cos(theta2)\n",
    "\n",
    "# Define potential energy at theta1 = 0, theta2 = 0\n",
    "V_zero = V.subs({theta1: 0, theta2: 0})\n",
    "\n",
    "# Define potential energy relative to the zero potential energy\n",
    "V_relative = V - V_zero\n",
    "\n",
    "# Define the parameters for numerical evaluation\n",
    "params = {\n",
    "    g: 9.81,  # Acceleration due to gravity (m/s^2)\n",
    "    l1: 1.0,  # Length of the first rod (m)\n",
    "    l2: 1.0,  # Length of the second rod (m)\n",
    "    m1: 1.0,  # Mass of the first bob (kg)\n",
    "    m2: 1.0   # Mass of the second bob (kg)\n",
    "}\n",
    "\n",
    "# Convert symbolic expression to a numerical function\n",
    "V_func = sp.lambdify(theta2, V_relative.subs({theta1: 0, **params}), 'numpy')"
   ],
   "id": "9bd758922b472b67",
   "execution_count": 29,
   "outputs": []
  },
  {
   "metadata": {
    "ExecuteTime": {
     "end_time": "2024-08-05T15:17:41.787051Z",
     "start_time": "2024-08-05T15:17:41.628179Z"
    }
   },
   "cell_type": "code",
   "source": [
    "# Define the theta2 values for the plot\n",
    "theta2_deg = np.array([0, 30, 60, 90, 120, 150, 180])\n",
    "theta2_rad = np.deg2rad(theta2_deg)\n",
    "\n",
    "# Calculate the potential energy for each theta2 value\n",
    "V_values = V_func(theta2_rad)\n",
    "\n",
    "# Prepare the plot\n",
    "fig, ax = plt.subplots(figsize=(10, 10))\n",
    "ax.set_aspect('equal')\n",
    "ax.set_xlim(-2, 2)\n",
    "ax.set_ylim(-2, 2)\n",
    "\n",
    "# Plot the arms of the pendulum\n",
    "for i, (angle, V_val) in enumerate(zip(theta2_deg, V_values)):\n",
    "    x2 = np.sin(np.deg2rad(angle))\n",
    "    y2 = -np.cos(np.deg2rad(angle))\n",
    "    ax.plot([0, x2], [0, y2], 'brown', linewidth=5)\n",
    "    ax.scatter(x2, y2, color='gray', s=100)\n",
    "    # Offset the text to avoid overlapping\n",
    "    if angle == 0:\n",
    "        ax.text(x2 - 0.25, y2 - 0.1, f'$E_{{{i}}} = {V_val:.2f}$', fontsize=12, ha='center', va='center', color='blue')\n",
    "    elif angle == 180:\n",
    "        ax.text(x2 - 0.25, y2 + 0.2, f'$E_{{{i}}} = {V_val:.2f}$', fontsize=12, ha='center', va='center', color='blue')\n",
    "    elif angle == 90:\n",
    "        ax.text(x2 , y2 - 0.1, f'$E_{{{i}}} = {V_val:.2f}$', fontsize=12, ha='center', va='center', color='blue')\n",
    "    else:\n",
    "        ax.text(x2 * 1.2, y2 * 1.2, f'$E_{{{i}}} = {V_val:.2f}$', fontsize=12, ha='center', va='center', color='blue')\n",
    "    ax.text(x2 * 1.4, y2 * 1.4, f'{angle}°', fontsize=12, ha='center', va='center', color='red')\n",
    "\n",
    "# Add reference lines\n",
    "ax.plot([-1.5, 0], [0, 0], 'gray', linestyle='--')\n",
    "ax.plot([0, 0], [-1.5, 1.5], 'gray', linestyle='--')\n",
    "\n",
    "ax.set_title('Double Pendulum Arm Positions and Potential Energy')\n",
    "ax.axis('off')\n",
    "\n",
    "plt.show()"
   ],
   "id": "cf9e7f41d5e79c45",
   "execution_count": 30,
   "outputs": []
  }
 ],
 "metadata": {
  "kernelspec": {
   "display_name": "Python 3",
   "language": "python",
   "name": "python3"
  },
  "language_info": {
   "codemirror_mode": {
    "name": "ipython",
    "version": 2
   },
   "file_extension": ".py",
   "mimetype": "text/x-python",
   "name": "python",
   "nbconvert_exporter": "python",
   "pygments_lexer": "ipython2",
   "version": "2.7.6"
  }
 },
 "nbformat": 4,
 "nbformat_minor": 5
}
