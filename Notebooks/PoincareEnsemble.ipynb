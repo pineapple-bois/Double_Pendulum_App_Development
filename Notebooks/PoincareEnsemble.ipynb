{
 "cells": [
  {
   "metadata": {},
   "cell_type": "markdown",
   "source": [
    "# Ensemble Poincaré Sections\n",
    "\n",
    "`DoublePendulumSubclassRandomEnsemble` is a class refactor aiming to plot Poincaré sections\n",
    "\n"
   ],
   "id": "966d7f9f5191512"
  },
  {
   "cell_type": "code",
   "id": "initial_id",
   "metadata": {
    "collapsed": true,
    "ExecuteTime": {
     "end_time": "2024-08-23T08:09:56.061094Z",
     "start_time": "2024-08-23T08:09:55.384674Z"
    }
   },
   "source": [
    "from random import sample\n",
    "\n",
    "import numpy as np\n",
    "import sympy as sp\n",
    "import pandas as pd\n",
    "import matplotlib.pyplot as plt\n",
    "\n",
    "from MathFunctions import *\n",
    "from DoublePendulumSubclassRandomEnsemble import DoublePendulum, DoublePendulumEnsemble"
   ],
   "outputs": [],
   "execution_count": 24
  },
  {
   "metadata": {},
   "cell_type": "markdown",
   "source": [
    "----\n",
    "&nbsp;\n",
    "#### Variable & Parameter Declaration"
   ],
   "id": "a5b10e1e7143febc"
  },
  {
   "metadata": {
    "ExecuteTime": {
     "end_time": "2024-08-23T07:47:15.621339Z",
     "start_time": "2024-08-23T07:47:15.617971Z"
    }
   },
   "cell_type": "code",
   "source": [
    "l1, l2, m1, m2, M1, M2, g = sp.symbols('l1 l2 m1 m2 M1 M2 g', real=True, positive=True)\n",
    "\n",
    "# Declare functions\n",
    "theta1 = sp.Function('theta1')(t)\n",
    "theta2 = sp.Function('theta2')(t)\n",
    "p_theta_1 = sp.Function('p_theta_1')(t)\n",
    "p_theta_2 = sp.Function('p_theta_2')(t)"
   ],
   "id": "f5d218dbb284f9e8",
   "outputs": [],
   "execution_count": 2
  },
  {
   "metadata": {
    "ExecuteTime": {
     "end_time": "2024-08-23T07:47:15.705537Z",
     "start_time": "2024-08-23T07:47:15.702652Z"
    }
   },
   "cell_type": "code",
   "source": [
    "# Parameters\n",
    "params = {\n",
    "    g: 9.81,  # Acceleration due to gravity (m/s^2)\n",
    "    l1: 1.0,  # Length of the first rod (m)\n",
    "    l2: 1.0,  # Length of the second rod (m)\n",
    "    m1: 1.0,  # Mass of the first bob (kg)\n",
    "    m2: 1.0,  # Mass of the second bob (kg)\n",
    "    M1: 1.0,  # Mass of first uniform rod (kg)\n",
    "    M2: 1.0   # Mass of second uniform rod (kg)\n",
    "}"
   ],
   "id": "4454f8d78504da58",
   "outputs": [],
   "execution_count": 3
  },
  {
   "metadata": {
    "ExecuteTime": {
     "end_time": "2024-08-23T07:47:15.742144Z",
     "start_time": "2024-08-23T07:47:15.739343Z"
    }
   },
   "cell_type": "code",
   "source": [
    "# Time vector\n",
    "\n",
    "# calculate frames/second\n",
    "# (time end - time start) * 200 = 24000 steps\n",
    "# (time end - time start) * 400 = 48000 steps\n",
    "# (time end - time start) * 800 = 96000 steps\n",
    "\n",
    "stop = 120\n",
    "fps = 200  # frames/second\n",
    "no_steps = stop * fps\n",
    "\n",
    "time = [0, stop, no_steps]"
   ],
   "id": "c2e3224c06399d59",
   "outputs": [],
   "execution_count": 4
  },
  {
   "metadata": {
    "ExecuteTime": {
     "end_time": "2024-08-23T07:47:16.698033Z",
     "start_time": "2024-08-23T07:47:15.750078Z"
    }
   },
   "cell_type": "code",
   "source": [
    "# Testing simple pendulum instantiation\n",
    "# Initial conditions (theta1, theta2, p1, p2)\n",
    "\n",
    "init_values = [0, 120, 0, 0]\n",
    "pendulum1 = DoublePendulum(parameters=params, initial_conditions=init_values, time_vector=time)"
   ],
   "id": "b79f9261198f1c02",
   "outputs": [],
   "execution_count": 5
  },
  {
   "metadata": {
    "ExecuteTime": {
     "end_time": "2024-08-23T07:47:58.923110Z",
     "start_time": "2024-08-23T07:47:58.918575Z"
    }
   },
   "cell_type": "code",
   "source": [
    "pendulum1.precompute_positions()\n",
    "#pendulum1.animate_pendulum(appearance='dark')"
   ],
   "id": "1d3218aa98bf0f92",
   "outputs": [],
   "execution_count": 7
  },
  {
   "metadata": {},
   "cell_type": "markdown",
   "source": [
    "----\n",
    "&nbsp;\n",
    "#### Potential Energy Calculator\n",
    "\n",
    "We need to find $E_{\\text{mech}}$ of the system which is all potential energy when releasing the pendulums from rest"
   ],
   "id": "d7862e64cb089c4f"
  },
  {
   "metadata": {
    "ExecuteTime": {
     "end_time": "2024-08-23T07:11:06.993120Z",
     "start_time": "2024-08-23T07:11:06.988234Z"
    }
   },
   "cell_type": "code",
   "source": [
    "def calculate_potential_energy(theta1_val, theta2_val, parameters, model='simple'):\n",
    "    \"\"\"\n",
    "    Calculate the potential energy of the double pendulum system relative to the datum where theta1 = 0 and theta2 = 0.\n",
    "    \"\"\"\n",
    "    if model == 'simple':\n",
    "        V = -(m1 + m2) * g * l1 * sp.cos(theta1) - m2 * g * l2 * sp.cos(theta2)\n",
    "\n",
    "    elif model == 'compound':\n",
    "        V = -M1 * g * (l1 / 2) * sp.cos(theta1) - M2 * g * ((l1 * sp.cos(theta1)) + (l2 / 2) * sp.cos(theta2))\n",
    "\n",
    "    else:\n",
    "        raise ValueError(\"Model must be 'simple' or 'compound'\")\n",
    "\n",
    "    V = V.subs(parameters)\n",
    "    V_subst = V.subs({theta1: theta1_val, theta2: theta2_val})\n",
    "    # Calculate potential energy at theta1 = 0 and theta2 = 0 (datum)\n",
    "    V_zero = V.subs({theta1: 0, theta2: 0})\n",
    "    V_relative = V_subst - V_zero\n",
    "\n",
    "    return V_relative"
   ],
   "id": "f3ac0fcef08af4d9",
   "outputs": [],
   "execution_count": 6
  },
  {
   "metadata": {
    "ExecuteTime": {
     "end_time": "2024-08-23T07:11:07.004646Z",
     "start_time": "2024-08-23T07:11:07.001996Z"
    }
   },
   "cell_type": "code",
   "source": [
    "angle1 = 120\n",
    "angle2 = 120\n",
    "\n",
    "theta1_val = np.deg2rad(angle1)\n",
    "theta2_val = np.deg2rad(angle2)"
   ],
   "id": "a6ea33ce4321f1aa",
   "outputs": [],
   "execution_count": 7
  },
  {
   "metadata": {
    "ExecuteTime": {
     "end_time": "2024-08-23T07:11:07.035608Z",
     "start_time": "2024-08-23T07:11:07.015312Z"
    }
   },
   "cell_type": "code",
   "source": [
    "# Calculate potential energy for the 'simple' model\n",
    "V_simple = calculate_potential_energy(theta1_val, theta2_val, params, model='simple')\n",
    "print(f\"Potential Energy (Simple Model): {V_simple:.2f} J\")\n",
    "\n",
    "# Calculate potential energy for the 'compound' model\n",
    "V_compound = calculate_potential_energy(theta1_val, theta2_val, params, model='compound')\n",
    "print(f\"Potential Energy (Compound Model): {V_compound:.2f} J\")"
   ],
   "id": "4ff9722fb24e5197",
   "outputs": [
    {
     "name": "stdout",
     "output_type": "stream",
     "text": [
      "Potential Energy (Simple Model): 44.14 J\n",
      "Potential Energy (Compound Model): 29.43 J\n"
     ]
    }
   ],
   "execution_count": 8
  },
  {
   "metadata": {},
   "cell_type": "markdown",
   "source": [
    "Maximum (theoretical) mechanical energy for this system released from rest is when $\\theta_1 = \\theta_2 = \\pi$\n",
    "\n",
    "- Potential Energy (Simple Model): 58.86 J\n",
    "- Potential Energy (Compound Model): 39.24 J"
   ],
   "id": "c7ae3cb801e401f5"
  },
  {
   "metadata": {},
   "cell_type": "markdown",
   "source": [
    "----\n",
    "&nbsp;\n",
    "#### `DoublePendulumEnsemble` Instantiation\n",
    "\n",
    "The below $E_{\\text{mech}}$ corresponds to $\\theta_1 = \\theta_2 = 120^{\\circ}$"
   ],
   "id": "eba06ec322a60131"
  },
  {
   "metadata": {
    "ExecuteTime": {
     "end_time": "2024-08-23T07:11:07.994852Z",
     "start_time": "2024-08-23T07:11:07.054011Z"
    }
   },
   "cell_type": "code",
   "source": [
    "simple_explorer = DoublePendulumEnsemble(params, time, 'simple', 44.14)\n",
    "compound_explorer = DoublePendulumEnsemble(params, time, 'compound', 29.42)"
   ],
   "id": "386aa7a82e6d8a7",
   "outputs": [
    {
     "name": "stdout",
     "output_type": "stream",
     "text": [
      "DoublePendulumEnsemble initialized with base class.\n",
      "DoublePendulumEnsemble initialized with base class.\n"
     ]
    }
   ],
   "execution_count": 9
  },
  {
   "metadata": {},
   "cell_type": "markdown",
   "source": "`_run_simulations()` is a protected class method but running for development (will eventually be called by a method that finds the Poincaré points)",
   "id": "55fc4c6bd4698de6"
  },
  {
   "metadata": {
    "ExecuteTime": {
     "end_time": "2024-08-23T07:13:29.569838Z",
     "start_time": "2024-08-23T07:11:08.065402Z"
    }
   },
   "cell_type": "code",
   "source": "simple_explorer._run_simulations()",
   "id": "40b1ce6242a2916e",
   "outputs": [
    {
     "name": "stdout",
     "output_type": "stream",
     "text": [
      "Special Angle Combinations within energy limit: 39\n",
      "Final length: 1000\n",
      "Batch 1 of 10 complete. Time taken: 10.20 seconds.\n",
      "Batch 2 of 10 complete. Time taken: 9.44 seconds.\n",
      "Batch 3 of 10 complete. Time taken: 9.21 seconds.\n",
      "Batch 4 of 10 complete. Time taken: 8.79 seconds.\n",
      "Batch 5 of 10 complete. Time taken: 8.88 seconds.\n",
      "Batch 6 of 10 complete. Time taken: 8.77 seconds.\n",
      "Batch 7 of 10 complete. Time taken: 8.85 seconds.\n",
      "Batch 8 of 10 complete. Time taken: 8.48 seconds.\n",
      "Batch 9 of 10 complete. Time taken: 8.48 seconds.\n",
      "Batch 10 of 10 complete. Time taken: 8.58 seconds.\n",
      "Simulations Complete. Time taken: 141.50 seconds.\n"
     ]
    }
   ],
   "execution_count": 10
  },
  {
   "metadata": {},
   "cell_type": "code",
   "outputs": [],
   "execution_count": null,
   "source": "",
   "id": "b1559abb8066c288"
  },
  {
   "metadata": {},
   "cell_type": "markdown",
   "source": [
    "----\n",
    "&nbsp;\n",
    "### The Poincaré Section"
   ],
   "id": "fd3c9763a46d06ac"
  },
  {
   "metadata": {},
   "cell_type": "markdown",
   "source": "Check [`solve_ivp`](https://docs.scipy.org/doc/scipy/reference/generated/scipy.integrate.solve_ivp.html#scipy.integrate.solve_ivp) documentation to tweak integrator arguments",
   "id": "6e59ab9d8e00254e"
  },
  {
   "metadata": {},
   "cell_type": "code",
   "outputs": [],
   "execution_count": null,
   "source": [
    "# Define additional parameters for the numerical integration\n",
    "integrator_args = {\n",
    "    'rtol': 1e-5,    # default is 1e-3\n",
    "    'atol': 1e-8     # default is 1e-6\n",
    "    #'method': 'RK45',\n",
    "}"
   ],
   "id": "4ea67d7e7901093b"
  },
  {
   "metadata": {},
   "cell_type": "markdown",
   "source": [
    "With looser tolerances defined above, the solver introduces small errors at each step that accumulate over time, leading to points that are slightly off from their true positions. \n",
    "\n",
    "- Tighter tolerances hopefully reduce this drift at the expense of computational load. \n",
    "\n",
    "- We want an accurate representation of the system’s dynamics and we want it in a 'reasonable runtime`. These parameters are mutually exclusive"
   ],
   "id": "55e4310bf32a9947"
  },
  {
   "metadata": {},
   "cell_type": "code",
   "outputs": [],
   "execution_count": null,
   "source": "simple_explorer.find_poincare_section(**integrator_args)",
   "id": "1851e3c4f266dd1a"
  },
  {
   "metadata": {},
   "cell_type": "code",
   "outputs": [],
   "execution_count": null,
   "source": [
    "print(simple_explorer.initial_condition_data.shape)\n",
    "print(type(simple_explorer.initial_condition_data))\n",
    "print(len(simple_explorer.initial_condition_data[180]))\n",
    "print(simple_explorer.initial_condition_data[180][:10])"
   ],
   "id": "20e307a2e497e83a"
  },
  {
   "metadata": {},
   "cell_type": "code",
   "outputs": [],
   "execution_count": null,
   "source": "print(len(simple_explorer.poincare_section_data[360]))",
   "id": "c64969a8aa93362a"
  },
  {
   "metadata": {},
   "cell_type": "code",
   "outputs": [],
   "execution_count": null,
   "source": "simple_explorer.plot_poincare_map()",
   "id": "1716b754355a48f9"
  }
 ],
 "metadata": {
  "kernelspec": {
   "display_name": "Python 3",
   "language": "python",
   "name": "python3"
  },
  "language_info": {
   "codemirror_mode": {
    "name": "ipython",
    "version": 2
   },
   "file_extension": ".py",
   "mimetype": "text/x-python",
   "name": "python",
   "nbconvert_exporter": "python",
   "pygments_lexer": "ipython2",
   "version": "2.7.6"
  }
 },
 "nbformat": 4,
 "nbformat_minor": 5
}
