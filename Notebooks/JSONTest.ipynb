{
 "cells": [
  {
   "cell_type": "markdown",
   "source": [
    "## Read in JSON data \n",
    "(multiple simulations of $\\theta_2$)"
   ],
   "metadata": {
    "collapsed": false
   },
   "id": "79bac04e21bd4ab1"
  },
  {
   "cell_type": "code",
   "execution_count": 1,
   "id": "initial_id",
   "metadata": {
    "collapsed": true,
    "ExecuteTime": {
     "end_time": "2024-02-18T22:33:29.922763Z",
     "start_time": "2024-02-18T22:33:28.353172Z"
    }
   },
   "source": [
    "import sympy as sp\n",
    "import numpy as np\n",
    "import matplotlib.pyplot as plt\n",
    "import pandas as pd\n",
    "import json"
   ],
   "outputs": []
  },
  {
   "cell_type": "code",
   "execution_count": null,
   "source": [
    "# To access the data for a specific simulation and convert it to a DataFrame:\n",
    "index_to_access = 180  "
   ],
   "metadata": {
    "collapsed": false
   },
   "id": "20fac48fcb63833",
   "outputs": []
  },
  {
   "cell_type": "markdown",
   "source": [
    "`simple model`"
   ],
   "metadata": {
    "collapsed": false
   },
   "id": "2daa96491f1935c5"
  },
  {
   "cell_type": "code",
   "execution_count": 3,
   "source": [
    "# Load the data from the JSON file\n",
    "with open('JSONdata/simple_data.json') as file:\n",
    "    simulation_data_dict = json.load(file)"
   ],
   "metadata": {
    "collapsed": false,
    "ExecuteTime": {
     "end_time": "2024-02-18T21:50:50.361811Z",
     "start_time": "2024-02-18T21:46:59.196293Z"
    }
   },
   "id": "2beb0dd4a97de303",
   "outputs": []
  },
  {
   "cell_type": "code",
   "execution_count": 8,
   "source": [
    "specific_simulation_data = simulation_data_dict[str(index_to_access)]  # keys will be in string format\n",
    "specific_simple_df = pd.DataFrame(specific_simulation_data)\n",
    "\n",
    "# Display the DataFrame for the specific simulation\n",
    "print(f\"Shape: {specific_simple_df.shape}\")\n",
    "specific_simple_df.head()"
   ],
   "metadata": {
    "collapsed": false,
    "ExecuteTime": {
     "end_time": "2024-02-18T21:59:28.529424Z",
     "start_time": "2024-02-18T21:59:28.459214Z"
    }
   },
   "id": "963719cf72a433df",
   "outputs": []
  },
  {
   "cell_type": "markdown",
   "source": [
    "`compound model`"
   ],
   "metadata": {
    "collapsed": false
   },
   "id": "c1dcf538e08cf045"
  },
  {
   "cell_type": "code",
   "execution_count": 9,
   "source": [
    "# Load the data from the JSON file\n",
    "with open('JSONdata/compound_data.json') as file:\n",
    "    simulation_data_dict_two = json.load(file)"
   ],
   "metadata": {
    "collapsed": false,
    "ExecuteTime": {
     "end_time": "2024-02-18T22:02:52.621335Z",
     "start_time": "2024-02-18T21:59:34.199160Z"
    }
   },
   "id": "4b6fafa1a598a8b1",
   "outputs": []
  },
  {
   "cell_type": "code",
   "execution_count": 10,
   "source": [
    "specific_simulation_data_two = simulation_data_dict_two[str(index_to_access)]  # keys will be in string format\n",
    "specific_compound_df = pd.DataFrame(specific_simulation_data_two)\n",
    "\n",
    "# Display the DataFrame for the specific simulation\n",
    "print(f\"Shape: {specific_compound_df.shape}\")\n",
    "specific_compound_df.head()"
   ],
   "metadata": {
    "collapsed": false,
    "ExecuteTime": {
     "end_time": "2024-02-18T22:03:21.162099Z",
     "start_time": "2024-02-18T22:03:21.117388Z"
    }
   },
   "id": "aada4e729f81233",
   "outputs": []
  }
 ],
 "metadata": {
  "kernelspec": {
   "display_name": "Python 3",
   "language": "python",
   "name": "python3"
  },
  "language_info": {
   "codemirror_mode": {
    "name": "ipython",
    "version": 2
   },
   "file_extension": ".py",
   "mimetype": "text/x-python",
   "name": "python",
   "nbconvert_exporter": "python",
   "pygments_lexer": "ipython2",
   "version": "2.7.6"
  }
 },
 "nbformat": 4,
 "nbformat_minor": 5
}
